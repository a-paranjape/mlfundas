{
 "cells": [
  {
   "cell_type": "code",
   "execution_count": 1,
   "id": "75c95c9e-d952-463f-b136-d3cc43134149",
   "metadata": {},
   "outputs": [],
   "source": [
    "import numpy as np\n",
    "import sys\n",
    "from pathlib import Path\n",
    "\n",
    "sys.path.append('../code/')\n",
    "\n",
    "from mlalgos import BuildNN\n",
    "from mllib import Utilities,MLUtilities\n",
    "\n",
    "from time import time\n",
    "import pickle\n",
    "\n",
    "import matplotlib.pyplot as plt\n",
    "from matplotlib import gridspec\n",
    "import matplotlib as mpl\n",
    "import matplotlib.colors as pltcol\n",
    "import gc\n",
    "\n",
    "ut = Utilities()\n",
    "ml = MLUtilities()"
   ]
  },
  {
   "cell_type": "code",
   "execution_count": 2,
   "id": "4d382216-1f0a-4496-94dc-277c35ded7c5",
   "metadata": {},
   "outputs": [],
   "source": [
    "mpl.rcParams['xtick.direction'] = 'in'\n",
    "mpl.rcParams['ytick.direction'] = 'in'\n",
    "mpl.rcParams['xtick.top'] = True\n",
    "mpl.rcParams['ytick.right'] = True\n",
    "mpl.rcParams['xtick.labelsize'] = 14\n",
    "mpl.rcParams['ytick.labelsize'] = 14\n",
    "mpl.rcParams['axes.labelsize'] = 16\n",
    "mpl.rcParams['legend.fontsize'] = 14 # 14\n",
    "mpl.rcParams['legend.labelspacing'] = 0.25\n",
    "FS = 18\n",
    "FS2 = 15\n",
    "FS3 = 13\n",
    "FSL = 22\n",
    "\n",
    "mpl.rcParams['xtick.major.size'] = 6\n",
    "mpl.rcParams['xtick.minor.size'] = 3\n",
    "mpl.rcParams['ytick.major.size'] = 6\n",
    "mpl.rcParams['ytick.minor.size'] = 3\n",
    "\n",
    "#mpl.rcParams.keys()"
   ]
  },
  {
   "cell_type": "markdown",
   "id": "7be41506-3d89-422a-9d0b-5ad039e75961",
   "metadata": {},
   "source": [
    "# Example usage of `BuildNN` \n",
    "### for systematically searching over network architectures and hyperparameters"
   ]
  },
  {
   "cell_type": "code",
   "execution_count": 3,
   "id": "da2b288b-4082-4acb-afeb-c3a3da7b19f5",
   "metadata": {},
   "outputs": [],
   "source": [
    "# Plot_Stem = 'buildnn/plots'\n",
    "# Path(Plot_Stem).mkdir(parents=True,exist_ok=True)\n",
    "\n",
    "# Save_Fig = True"
   ]
  },
  {
   "cell_type": "markdown",
   "id": "60c3a98c-b59c-4b82-9865-e83aff40bdb9",
   "metadata": {},
   "source": [
    "## 1-d Gaussian family\n",
    "### Function definition"
   ]
  },
  {
   "cell_type": "code",
   "execution_count": 4,
   "id": "74bdcfc7-5306-40a0-b092-a2e1bb5cd9a1",
   "metadata": {},
   "outputs": [],
   "source": [
    "def func_gauss1d(x,params):\n",
    "    \"\"\" Expect x as 1-d array, params as array of shape (0,), (1,) or (2,). \"\"\"\n",
    "    mu = params[0] if len(params) > 0 else 0.0\n",
    "    sig2 = 10**params[1] if len(params) > 1 else 1.0\n",
    "    return np.exp(-0.5*(x-mu)**2/sig2)/np.sqrt(2*np.pi*sig2)"
   ]
  },
  {
   "cell_type": "code",
   "execution_count": 5,
   "id": "4286e315-5919-458e-ad7e-19281f6215e8",
   "metadata": {},
   "outputs": [],
   "source": [
    "Shallow = True # True: shallow+wide arch; False: deep+narrow arch"
   ]
  },
  {
   "cell_type": "markdown",
   "id": "4a654c12-5157-483e-b0d4-325f8680d898",
   "metadata": {},
   "source": [
    "### Training & testing samples"
   ]
  },
  {
   "cell_type": "code",
   "execution_count": 6,
   "id": "2be825a4-2d90-44cd-9723-647e31768982",
   "metadata": {},
   "outputs": [
    {
     "name": "stdout",
     "output_type": "stream",
     "text": [
      "Generating data for 1-d Gaussian family...\n",
      "... training sample\n",
      "... sample of size 2400 created\n",
      "... testing sample\n",
      "... sample of size 800 created\n",
      "... done\n",
      "0 min 0.00 seconds\n",
      "\n"
     ]
    }
   ],
   "source": [
    "start_time = time()\n",
    "\n",
    "print('Generating data for 1-d Gaussian family...')\n",
    "\n",
    "xmin,xmax = -2.5,3.0\n",
    "\n",
    "seed = 1983\n",
    "rng = np.random.RandomState(seed)\n",
    "\n",
    "n_x_train = 80 if Shallow else 120\n",
    "xtrain = np.linspace(xmin,xmax,n_x_train)\n",
    "\n",
    "param_mins = [-0.5,-0.1] if Shallow else [-1,-0.3] # minimum mu,lgsig2\n",
    "param_maxs = [ 0.5, 0.1] if Shallow else [ 1, 0.3] # maximum mu,lgsig2\n",
    "\n",
    "#################################################\n",
    "# Training set\n",
    "print('... training sample')\n",
    "n_lhc_train = 30 if Shallow else 45 # no. of Latin hypercube samples\n",
    "n_params = len(param_mins)\n",
    "\n",
    "# LHC of shape (n_lhc_train,n_params)\n",
    "if len(param_mins) > 0:\n",
    "    params_train = ut.gen_latin_hypercube(Nsamp=n_lhc_train,dim=n_params,param_mins=param_mins,param_maxs=param_maxs,rng=rng) \n",
    "else:\n",
    "    params_train = [[]]\n",
    "\n",
    "n_train = n_lhc_train*n_x_train\n",
    "\n",
    "X_train = np.zeros((n_train,n_params+1)) # features = {params},x; X will be transposed later\n",
    "Y_train = np.zeros((1,n_train))\n",
    "\n",
    "for n in range(n_lhc_train):\n",
    "    sl = np.s_[n*n_x_train:(n+1)*n_x_train]\n",
    "    for p in range(n_params):\n",
    "        X_train[sl,p] = params_train[n,p]\n",
    "    X_train[sl,-1] = xtrain\n",
    "    Y_train[0,sl] = func_gauss1d(xtrain,params_train[n])\n",
    "\n",
    "X_train = X_train.T\n",
    "print('... sample of size {0:d} created'.format(n_train))\n",
    "#################################################\n",
    "# Testing set\n",
    "print('... testing sample')\n",
    "n_x_test = 40 if Shallow else 120\n",
    "xtest = (xmax-xmin)*rng.random_sample(n_x_test) + xmin\n",
    "\n",
    "n_lhc_test = 20 if Shallow else 30 # no. of Latin hypercube samples\n",
    "\n",
    "# LHC of shape (n_lhc_train,n_params)\n",
    "if len(param_mins) > 0:\n",
    "    params_test = ut.gen_latin_hypercube(Nsamp=n_lhc_test,dim=n_params,param_mins=param_mins,param_maxs=param_maxs,rng=rng) \n",
    "else:\n",
    "    params_test = [[]]\n",
    "\n",
    "n_test = n_lhc_test*n_x_test\n",
    "\n",
    "X_test = np.zeros((n_test,n_params+1)) # features = {params},x; X will be transposed later\n",
    "Y_test = np.zeros((1,n_test))\n",
    "\n",
    "for n in range(n_lhc_test):\n",
    "    sl = np.s_[n*n_x_test:(n+1)*n_x_test]\n",
    "    for p in range(n_params):\n",
    "        X_test[sl,p] = params_test[n,p]\n",
    "    X_test[sl,-1] = xtest\n",
    "    Y_test[0,sl] = func_gauss1d(xtest,params_test[n])\n",
    "\n",
    "X_test = X_test.T\n",
    "print('... sample of size {0:d} created'.format(n_test))\n",
    "print('... done')\n",
    "ut.time_this(start_time)"
   ]
  },
  {
   "cell_type": "markdown",
   "id": "8a849fdb-0450-477a-9fed-545474b0e7d6",
   "metadata": {},
   "source": [
    "### Network setup and training"
   ]
  },
  {
   "cell_type": "markdown",
   "id": "7d69e3da-f56f-49ea-91a5-46e327ab37f1",
   "metadata": {},
   "source": [
    "#### Non-ensembled"
   ]
  },
  {
   "cell_type": "code",
   "execution_count": 7,
   "id": "f2ffbff3-e05a-4bfe-bc01-339349ad582e",
   "metadata": {},
   "outputs": [
    {
     "name": "stdout",
     "output_type": "stream",
     "text": [
      "File_Stem: buildnn/gf1d_shallow/net\n",
      "Feed-forward neural network setup...\n",
      "... found data set of dimension 3 with targets of dimension 1\n",
      "... found 2400 samples\n",
      "... fraction 0.800 (1920 samples) will be used for training\n",
      "... will use residual percentiles for hyperparameter comparison\n",
      "... setup complete\n",
      "Initiating search... \n",
      "... cycling over 3 repetitions of 24 possible options\n",
      "... setting tasks\n",
      "... training using 4 process(es)\n",
      "[....................] 100% done\n",
      "\n",
      "... identifying and saving best network and its teststat and training params\n",
      "Best test stat = 1.509e-02\n",
      "Setup params:  {'data_dim': 3, 'loss_type': 'square', 'adam': True, 'seed': None, 'standardize': True, 'file_stem': 'buildnn/gf1d_shallow/net', 'verbose': False, 'logfile': None, 'neg_labels': True, 'L': 4, 'wt_decay': 0.0, 'n_layer': [20, 20, 20, 1], 'reg_fun': 'none', 'atypes': ['relu', 'relu', 'relu', 'lin'], 'threshold': None, 'Y_std': array([[0.13988443]]), 'Y_mean': array([[0.17538274]])}\n",
      "Training params:  {'max_epoch': 1000000, 'mb_count': 43, 'val_frac': 0.2, 'check_after': 300, 'lrate': 0.003}\n",
      "No. of free params optimized = 941\n",
      "\n"
     ]
    },
    {
     "data": {
      "image/png": "[encoded data removed]",
      "text/plain": [
       "<Figure size 300x300 with 1 Axes>"
      ]
     },
     "metadata": {},
     "output_type": "display_data"
    },
    {
     "name": "stdout",
     "output_type": "stream",
     "text": [
      "5 min 0.19 seconds\n",
      "\n"
     ]
    }
   ],
   "source": [
    "Build = True\n",
    "\n",
    "Depth_Str = 'shallow' if Shallow else 'deep'\n",
    "Example_Stem = 'gf1d_'+Depth_Str\n",
    "\n",
    "File_Stem = 'buildnn/' + Example_Stem\n",
    "Path(File_Stem).mkdir(parents=True,exist_ok=True) # main folder to store final network (ensemble)\n",
    "File_Stem += '/net' \n",
    "print('File_Stem:',File_Stem)\n",
    "\n",
    "Train_Frac = 0.8                               # fraction of input samples to use for training+validation. \n",
    "                                               # remaining used for arch and hyperparam comparisons.\n",
    "Val_Frac = 0.2                                 # fraction of Train_Frac to use for validation, i.e. early stopping criterion.\n",
    "Arch_Type = 'emulator:'+Depth_Str              # None or one of ['emulator:deep','emulator:shallow','no_reg','autoenc']. \n",
    "Min_Layer = 2                                  # minimum number of layers\n",
    "Max_Layer = 4                                  # maximum number of layers\n",
    "Max_Ex = [7,17] if Shallow else [4,6]          # int or list of ints. number of nodes in excess of input dimension \n",
    "                                               # (currently forced to be constant across layers)\n",
    "HTypes = ['tanh','relu']                       # None or subset of ['tanh','relu','lrelu'] \n",
    "# LReluSlope = 1e-2                             # relevant if HTypes contains 'lrelu'\n",
    "LRates = [1e-3,3e-3]                           # None or list of floats: learning rates\n",
    "Wt_Decays = [0.0]                              # non-empty list of floats: weight decay values\n",
    "N_Iter = 3                                     # number of iterations for each choice of arch and hyperparams\n",
    "Loss_Type = 'square'                           # one of ['square','hinge','nll','nllm']\n",
    "Seed = None                                    # None or int, random number seed.\n",
    "Check_After = 100 if Shallow else 1000         # epoch after which to activate validation (early stopping) checks\n",
    "Test_Type = 'perc'                             # one of 'perc' (residual percentiles) or 'mse' (mean squared error). \n",
    "                                               # relevant for regression (square/hinge loss).\n",
    "Parallel = True                                # train networks in parallel\n",
    "NProc = 4                                     # number of concurrent processes (only relevant if Parallel = True)\n",
    "\n",
    "start_time = time()\n",
    "bnn = BuildNN(X_train,Y_train,train_frac=Train_Frac,arch_type=Arch_Type,max_ex=Max_Ex,min_layer=Min_Layer,max_layer=Max_Layer,\n",
    "              val_frac=Val_Frac,n_iter=N_Iter,wt_decays=Wt_Decays,lrates=LRates,htypes=HTypes,parallel=Parallel,nproc=NProc,\n",
    "              loss_type=Loss_Type,test_type=Test_Type,seed=Seed,file_stem=File_Stem,ensemble=False)\n",
    "if Build:\n",
    "    net,params_train,bts = bnn.trainNN()\n",
    "    print('Best test stat = {0:.3e}'.format(bts))\n",
    "    print('Setup params: ',net.params)\n",
    "    print('Training params: ',params_train)\n",
    "else:\n",
    "    net = bnn.load()\n",
    "    print('Loaded network with')\n",
    "    print('...    setup params: ',net.params)\n",
    "    params_train,bts = bnn.load_train()\n",
    "    print('... best test stat: {0:.3e}'.format(bts))\n",
    "    print('... training params: ',params_train)\n",
    "\n",
    "print('No. of free params optimized = {0:d}\\n'.format(net.calc_N_freeparams()))\n",
    "\n",
    "plt.figure(figsize=(3,3))\n",
    "plt.yscale('log')\n",
    "plt.xscale('log')\n",
    "plt.xlabel('epoch')\n",
    "plt.ylabel('loss')\n",
    "plt.plot(net.epochs,net.training_loss,'k-',lw=0.5,label='training')\n",
    "plt.plot(net.epochs,net.val_loss,'r-',lw=1,label='validation')\n",
    "plt.legend()\n",
    "plt.show()\n",
    "\n",
    "residual = np.squeeze(net.predict(X_test)/(Y_test + 1e-15) - 1)\n",
    "\n",
    "ut.time_this(start_time)"
   ]
  },
  {
   "cell_type": "markdown",
   "id": "ed66b64d-d0db-41ab-aa57-e40c799eebbd",
   "metadata": {},
   "source": [
    "#### Ensembled"
   ]
  },
  {
   "cell_type": "code",
   "execution_count": 8,
   "id": "6367e262-e851-4146-9195-7c2837779632",
   "metadata": {},
   "outputs": [],
   "source": [
    "# Build = True\n",
    "\n",
    "# Depth_Str = 'shallow' if Shallow else 'deep'\n",
    "# Example_Stem = 'gf1d_'+Depth_Str\n",
    "# Example_Stem += '_ens'\n",
    "\n",
    "# File_Stem = 'buildnn/' + Example_Stem\n",
    "# Path(File_Stem).mkdir(parents=True,exist_ok=True) # main folder to store final network (ensemble)\n",
    "# File_Stem += '/net' \n",
    "# print('File_Stem:',File_Stem)\n",
    "\n",
    "# Train_Frac = 0.8                               # fraction of input samples to use for training+validation. \n",
    "#                                                # remaining used for arch and hyperparam comparisons.\n",
    "# Val_Frac = 0.2                                 # fraction of Train_Frac to use for validation, i.e. early stopping criterion.\n",
    "# Arch_Type = 'emulator:'+Depth_Str              # None or one of ['emulator:deep','emulator:shallow','no_reg','autoenc']. \n",
    "# Min_Layer = 2                                  # minimum number of layers\n",
    "# Max_Layer = 4                                  # maximum number of layers\n",
    "# Max_Ex = [7,17] if Shallow else [4,6]          # int or list of ints. number of nodes in excess of input dimension \n",
    "#                                                # (currently forced to be constant across layers)\n",
    "# HTypes = ['tanh','relu']                       # None or subset of ['tanh','relu','lrelu'] \n",
    "# # LReluSlope = 1e-2                             # relevant if HTypes contains 'lrelu'\n",
    "# LRates = [1e-3,3e-3]                           # None or list of floats: learning rates\n",
    "# Wt_Decays = [0.0]                              # non-empty list of floats: weight decay values\n",
    "# N_Iter = 3                                     # number of iterations for each choice of arch and hyperparams\n",
    "# Loss_Type = 'square'                           # one of ['square','hinge','nll','nllm']\n",
    "# Seed = None                                    # None or int, random number seed.\n",
    "# Check_After = 100 if Shallow else 1000         # epoch after which to activate validation (early stopping) checks\n",
    "# Test_Type = 'perc'                             # one of 'perc' (residual percentiles) or 'mse' (mean squared error). \n",
    "#                                                # relevant for regression (square/hinge loss).\n",
    "\n",
    "# start_time = time()\n",
    "# bnn = BuildNN(X_train,Y_train,train_frac=Train_Frac,arch_type=Arch_Type,max_ex=Max_Ex,min_layer=Min_Layer,max_layer=Max_Layer,\n",
    "#               val_frac=Val_Frac,n_iter=N_Iter,wt_decays=Wt_Decays,lrates=LRates,htypes=HTypes,\n",
    "#               loss_type=Loss_Type,test_type=Test_Type,seed=Seed,file_stem=File_Stem,ensemble=True)\n",
    "# if Build:\n",
    "#     neo,params_train,mtl = bnn.trainNN()\n",
    "#     print('Best mean test loss = {0:.3e}'.format(mtl))\n",
    "#     print('Setup params: ',neo.params)\n",
    "#     print('Training params: ',params_train)\n",
    "# else:\n",
    "#     neo = bnn.load() # network ensemble object\n",
    "#     print('Loaded ensembled network with')\n",
    "#     print('...    setup params: ',neo.params)\n",
    "#     params_train = bnn.load_train()\n",
    "#     print('... training params: ',params_train)\n",
    "\n",
    "# print('No. of free params optimized:')\n",
    "# for n in range(len(neo.nets)):\n",
    "#     net = neo.nets[n]\n",
    "#     print('... net_{0:d} = {1:d}\\n'.format(n,net.calc_N_freeparams()))\n",
    "\n",
    "# plt.figure(figsize=(3,3))\n",
    "# plt.yscale('log')\n",
    "# plt.xscale('log')\n",
    "# plt.xlabel('epoch')\n",
    "# plt.ylabel('loss')\n",
    "# for n in range(len(neo.nets)):\n",
    "#     net = neo.nets[n]\n",
    "#     plt.plot(net.epochs,net.training_loss,'k-',lw=0.5,label='training' if n==0 else None)\n",
    "#     plt.plot(net.epochs,net.val_loss,'r-',lw=1,label='validation' if n==0 else None)\n",
    "# plt.legend()\n",
    "# plt.show()\n",
    "\n",
    "# residual_ens = np.squeeze(neo.predict(X_test)/(Y_test + 1e-15) - 1)\n",
    "\n",
    "# ut.time_this(start_time)"
   ]
  },
  {
   "cell_type": "code",
   "execution_count": 9,
   "id": "3a95865a-6ccf-403e-8f7d-066ffffe7d87",
   "metadata": {},
   "outputs": [
    {
     "data": {
      "image/png": "[encoded data removed]",
      "text/plain": [
       "<Figure size 400x400 with 1 Axes>"
      ]
     },
     "metadata": {},
     "output_type": "display_data"
    },
    {
     "name": "stdout",
     "output_type": "stream",
     "text": [
      "median +- 1sigma: -0.0007 + 0.0027 - 0.0048\n"
     ]
    }
   ],
   "source": [
    "res_16pc = np.percentile(residual,16)\n",
    "res_med  = np.median(residual)\n",
    "res_84pc = np.percentile(residual,84)\n",
    "\n",
    "bins = np.linspace(-0.25,0.25,301)\n",
    "bin_mid = 0.5*(bins[1:]+bins[:-1])\n",
    "hist,bins = np.histogram(residual,bins=bins,density=False)\n",
    "hist = hist/residual.size/(bins[1]-bins[0])\n",
    "\n",
    "plt.figure(figsize=(4,4))\n",
    "plt.xlim(-0.075,0.075)\n",
    "plt.ylim(2e-1,6e2)\n",
    "plt.yscale('log')\n",
    "plt.xlabel('residual')\n",
    "plt.ylabel('probability density')\n",
    "plt.plot(bin_mid,hist,'-',c='crimson',lw=0.5,drawstyle='steps')\n",
    "plt.axvline(res_med,c='crimson',ls='--',lw=1)\n",
    "plt.axvline(res_16pc,c='crimson',ls=':',lw=1)\n",
    "plt.axvline(res_84pc,c='crimson',ls=':',lw=1)\n",
    "plt.minorticks_on()\n",
    "plt.show()\n",
    "\n",
    "print('median +- 1sigma: {0:.4f} + {1:.4f} - {2:.4f}'.format(res_med,res_84pc-res_med,res_med-res_16pc))"
   ]
  },
  {
   "cell_type": "code",
   "execution_count": null,
   "id": "878c709f-90b8-4eaa-8ff3-4ea0f2a773af",
   "metadata": {},
   "outputs": [],
   "source": []
  }
 ],
 "metadata": {
  "kernelspec": {
   "display_name": "Python 3 (ipykernel)",
   "language": "python",
   "name": "python3"
  },
  "language_info": {
   "codemirror_mode": {
    "name": "ipython",
    "version": 3
   },
   "file_extension": ".py",
   "mimetype": "text/x-python",
   "name": "python",
   "nbconvert_exporter": "python",
   "pygments_lexer": "ipython3",
   "version": "3.11.8"
  }
 },
 "nbformat": 4,
 "nbformat_minor": 5
}
